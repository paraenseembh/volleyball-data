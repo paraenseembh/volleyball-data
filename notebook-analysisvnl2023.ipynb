{
 "cells": [
  {
   "cell_type": "code",
   "execution_count": 1,
   "id": "0f657bea",
   "metadata": {
    "_cell_guid": "b1076dfc-b9ad-4769-8c92-a6c4dae69d19",
    "_uuid": "8f2839f25d086af736a60e9eeb907d3b93b6e0e5",
    "execution": {
     "iopub.execute_input": "2024-11-17T18:23:21.653562Z",
     "iopub.status.busy": "2024-11-17T18:23:21.653118Z",
     "iopub.status.idle": "2024-11-17T18:23:22.704805Z",
     "shell.execute_reply": "2024-11-17T18:23:22.703354Z"
    },
    "papermill": {
     "duration": 1.068271,
     "end_time": "2024-11-17T18:23:22.707729",
     "exception": false,
     "start_time": "2024-11-17T18:23:21.639458",
     "status": "completed"
    },
    "tags": []
   },
   "outputs": [
    {
     "name": "stdout",
     "output_type": "stream",
     "text": [
      "/kaggle/input/vnl-men-2023/VNL2023.csv\n"
     ]
    }
   ],
   "source": [
    "# This Python 3 environment comes with many helpful analytics libraries installed\n",
    "# It is defined by the kaggle/python Docker image: https://github.com/kaggle/docker-python\n",
    "# For example, here's several helpful packages to load\n",
    "\n",
    "import numpy as np # linear algebra\n",
    "import pandas as pd # data processing, CSV file I/O (e.g. pd.read_csv)\n",
    "\n",
    "# Input data files are available in the read-only \"../input/\" directory\n",
    "# For example, running this (by clicking run or pressing Shift+Enter) will list all files under the input directory\n",
    "\n",
    "import os\n",
    "for dirname, _, filenames in os.walk('/kaggle/input'):\n",
    "    for filename in filenames:\n",
    "        print(os.path.join(dirname, filename))\n",
    "\n",
    "# You can write up to 20GB to the current directory (/kaggle/working/) that gets preserved as output when you create a version using \"Save & Run All\" \n",
    "# You can also write temporary files to /kaggle/temp/, but they won't be saved outside of the current session"
   ]
  },
  {
   "cell_type": "markdown",
   "id": "04073761",
   "metadata": {
    "papermill": {
     "duration": 0.010301,
     "end_time": "2024-11-17T18:23:22.729369",
     "exception": false,
     "start_time": "2024-11-17T18:23:22.719068",
     "status": "completed"
    },
    "tags": []
   },
   "source": [
    "Análise exploratória de dados e algoritmo de classificação/regressão.\n",
    "\n",
    "Mean CV score: 0.9088319088319088"
   ]
  },
  {
   "cell_type": "code",
   "execution_count": 2,
   "id": "b1e1847c",
   "metadata": {
    "execution": {
     "iopub.execute_input": "2024-11-17T18:23:22.752885Z",
     "iopub.status.busy": "2024-11-17T18:23:22.752267Z",
     "iopub.status.idle": "2024-11-17T18:23:24.598413Z",
     "shell.execute_reply": "2024-11-17T18:23:24.597098Z"
    },
    "papermill": {
     "duration": 1.861123,
     "end_time": "2024-11-17T18:23:24.601322",
     "exception": false,
     "start_time": "2024-11-17T18:23:22.740199",
     "status": "completed"
    },
    "tags": []
   },
   "outputs": [],
   "source": [
    "from sklearn.model_selection import train_test_split, cross_val_score\n",
    "from sklearn.preprocessing import StandardScaler, LabelEncoder\n",
    "from sklearn.metrics import classification_report, confusion_matrix\n",
    "from sklearn.ensemble import RandomForestClassifier\n",
    "from sklearn.neighbors import KNeighborsClassifier\n",
    "from sklearn.tree import DecisionTreeClassifier, plot_tree"
   ]
  },
  {
   "cell_type": "code",
   "execution_count": 3,
   "id": "1cc02063",
   "metadata": {
    "execution": {
     "iopub.execute_input": "2024-11-17T18:23:24.625463Z",
     "iopub.status.busy": "2024-11-17T18:23:24.624909Z",
     "iopub.status.idle": "2024-11-17T18:23:25.144846Z",
     "shell.execute_reply": "2024-11-17T18:23:25.143571Z"
    },
    "papermill": {
     "duration": 0.535151,
     "end_time": "2024-11-17T18:23:25.147691",
     "exception": false,
     "start_time": "2024-11-17T18:23:24.612540",
     "status": "completed"
    },
    "tags": []
   },
   "outputs": [],
   "source": [
    "import matplotlib.pyplot as plt\n",
    "import seaborn as sns"
   ]
  },
  {
   "cell_type": "markdown",
   "id": "343cee52",
   "metadata": {
    "papermill": {
     "duration": 0.010259,
     "end_time": "2024-11-17T18:23:25.170216",
     "exception": false,
     "start_time": "2024-11-17T18:23:25.159957",
     "status": "completed"
    },
    "tags": []
   },
   "source": [
    "**Criando o dataframe\n",
    "**"
   ]
  },
  {
   "cell_type": "code",
   "execution_count": 4,
   "id": "28bb877a",
   "metadata": {
    "execution": {
     "iopub.execute_input": "2024-11-17T18:23:25.194225Z",
     "iopub.status.busy": "2024-11-17T18:23:25.193616Z",
     "iopub.status.idle": "2024-11-17T18:23:25.212038Z",
     "shell.execute_reply": "2024-11-17T18:23:25.210798Z"
    },
    "papermill": {
     "duration": 0.033708,
     "end_time": "2024-11-17T18:23:25.215061",
     "exception": false,
     "start_time": "2024-11-17T18:23:25.181353",
     "status": "completed"
    },
    "tags": []
   },
   "outputs": [],
   "source": [
    "df = pd.read_csv(\"/kaggle/input/vnl-men-2023/VNL2023.csv\")"
   ]
  },
  {
   "cell_type": "markdown",
   "id": "0c5a33b3",
   "metadata": {
    "papermill": {
     "duration": 0.010285,
     "end_time": "2024-11-17T18:23:25.236182",
     "exception": false,
     "start_time": "2024-11-17T18:23:25.225897",
     "status": "completed"
    },
    "tags": []
   },
   "source": [
    "**Visualizing the original dataframe**"
   ]
  },
  {
   "cell_type": "code",
   "execution_count": 5,
   "id": "91aeae18",
   "metadata": {
    "execution": {
     "iopub.execute_input": "2024-11-17T18:23:25.259426Z",
     "iopub.status.busy": "2024-11-17T18:23:25.259006Z",
     "iopub.status.idle": "2024-11-17T18:23:25.299738Z",
     "shell.execute_reply": "2024-11-17T18:23:25.298408Z"
    },
    "papermill": {
     "duration": 0.055349,
     "end_time": "2024-11-17T18:23:25.302343",
     "exception": false,
     "start_time": "2024-11-17T18:23:25.246994",
     "status": "completed"
    },
    "tags": []
   },
   "outputs": [
    {
     "data": {
      "text/html": [
       "<div>\n",
       "<style scoped>\n",
       "    .dataframe tbody tr th:only-of-type {\n",
       "        vertical-align: middle;\n",
       "    }\n",
       "\n",
       "    .dataframe tbody tr th {\n",
       "        vertical-align: top;\n",
       "    }\n",
       "\n",
       "    .dataframe thead th {\n",
       "        text-align: right;\n",
       "    }\n",
       "</style>\n",
       "<table border=\"1\" class=\"dataframe\">\n",
       "  <thead>\n",
       "    <tr style=\"text-align: right;\">\n",
       "      <th></th>\n",
       "      <th>Player</th>\n",
       "      <th>Country</th>\n",
       "      <th>Age</th>\n",
       "      <th>Attack</th>\n",
       "      <th>Block</th>\n",
       "      <th>Serve</th>\n",
       "      <th>Set</th>\n",
       "      <th>Dig</th>\n",
       "      <th>Receive</th>\n",
       "      <th>Position</th>\n",
       "    </tr>\n",
       "  </thead>\n",
       "  <tbody>\n",
       "    <tr>\n",
       "      <th>0</th>\n",
       "      <td>Ichikawa Yuki</td>\n",
       "      <td>Japan</td>\n",
       "      <td>28</td>\n",
       "      <td>15.80</td>\n",
       "      <td>1.13</td>\n",
       "      <td>1.40</td>\n",
       "      <td>0.07</td>\n",
       "      <td>4.80</td>\n",
       "      <td>5.60</td>\n",
       "      <td>OH</td>\n",
       "    </tr>\n",
       "    <tr>\n",
       "      <th>1</th>\n",
       "      <td>Romano Yuri</td>\n",
       "      <td>Italy</td>\n",
       "      <td>26</td>\n",
       "      <td>12.33</td>\n",
       "      <td>1.07</td>\n",
       "      <td>1.47</td>\n",
       "      <td>0.00</td>\n",
       "      <td>3.87</td>\n",
       "      <td>0.00</td>\n",
       "      <td>OP</td>\n",
       "    </tr>\n",
       "    <tr>\n",
       "      <th>2</th>\n",
       "      <td>Abdel-Aziz Nimir</td>\n",
       "      <td>Nederland</td>\n",
       "      <td>31</td>\n",
       "      <td>15.33</td>\n",
       "      <td>0.67</td>\n",
       "      <td>2.08</td>\n",
       "      <td>0.00</td>\n",
       "      <td>3.17</td>\n",
       "      <td>0.25</td>\n",
       "      <td>OP</td>\n",
       "    </tr>\n",
       "    <tr>\n",
       "      <th>3</th>\n",
       "      <td>Herrera Jaime Jesus</td>\n",
       "      <td>Cuba</td>\n",
       "      <td>28</td>\n",
       "      <td>15.00</td>\n",
       "      <td>0.92</td>\n",
       "      <td>1.75</td>\n",
       "      <td>0.00</td>\n",
       "      <td>3.33</td>\n",
       "      <td>0.17</td>\n",
       "      <td>OP</td>\n",
       "    </tr>\n",
       "    <tr>\n",
       "      <th>4</th>\n",
       "      <td>Takahashi Ran</td>\n",
       "      <td>Japan</td>\n",
       "      <td>22</td>\n",
       "      <td>11.53</td>\n",
       "      <td>0.67</td>\n",
       "      <td>1.00</td>\n",
       "      <td>0.07</td>\n",
       "      <td>6.40</td>\n",
       "      <td>5.07</td>\n",
       "      <td>OH</td>\n",
       "    </tr>\n",
       "    <tr>\n",
       "      <th>...</th>\n",
       "      <td>...</td>\n",
       "      <td>...</td>\n",
       "      <td>...</td>\n",
       "      <td>...</td>\n",
       "      <td>...</td>\n",
       "      <td>...</td>\n",
       "      <td>...</td>\n",
       "      <td>...</td>\n",
       "      <td>...</td>\n",
       "      <td>...</td>\n",
       "    </tr>\n",
       "    <tr>\n",
       "      <th>126</th>\n",
       "      <td>Graven Leonard</td>\n",
       "      <td>Germany</td>\n",
       "      <td>19</td>\n",
       "      <td>0.00</td>\n",
       "      <td>0.00</td>\n",
       "      <td>0.00</td>\n",
       "      <td>0.00</td>\n",
       "      <td>5.92</td>\n",
       "      <td>1.92</td>\n",
       "      <td>L</td>\n",
       "    </tr>\n",
       "    <tr>\n",
       "      <th>127</th>\n",
       "      <td>Balaso Fabio</td>\n",
       "      <td>Italy</td>\n",
       "      <td>28</td>\n",
       "      <td>0.00</td>\n",
       "      <td>0.00</td>\n",
       "      <td>0.00</td>\n",
       "      <td>0.00</td>\n",
       "      <td>10.00</td>\n",
       "      <td>5.00</td>\n",
       "      <td>L</td>\n",
       "    </tr>\n",
       "    <tr>\n",
       "      <th>128</th>\n",
       "      <td>Nacsimento Maique Reis</td>\n",
       "      <td>Brazil</td>\n",
       "      <td>26</td>\n",
       "      <td>0.00</td>\n",
       "      <td>0.00</td>\n",
       "      <td>0.00</td>\n",
       "      <td>0.00</td>\n",
       "      <td>5.08</td>\n",
       "      <td>2.46</td>\n",
       "      <td>L</td>\n",
       "    </tr>\n",
       "    <tr>\n",
       "      <th>129</th>\n",
       "      <td>Garcia Alvarez Yonder Roman</td>\n",
       "      <td>Cuba</td>\n",
       "      <td>30</td>\n",
       "      <td>0.00</td>\n",
       "      <td>0.00</td>\n",
       "      <td>0.00</td>\n",
       "      <td>0.00</td>\n",
       "      <td>4.25</td>\n",
       "      <td>3.25</td>\n",
       "      <td>L</td>\n",
       "    </tr>\n",
       "    <tr>\n",
       "      <th>130</th>\n",
       "      <td>Salparov Teodor</td>\n",
       "      <td>Bulgaria</td>\n",
       "      <td>41</td>\n",
       "      <td>0.00</td>\n",
       "      <td>0.00</td>\n",
       "      <td>0.00</td>\n",
       "      <td>0.00</td>\n",
       "      <td>5.00</td>\n",
       "      <td>3.75</td>\n",
       "      <td>L</td>\n",
       "    </tr>\n",
       "  </tbody>\n",
       "</table>\n",
       "<p>131 rows × 10 columns</p>\n",
       "</div>"
      ],
      "text/plain": [
       "                          Player    Country  Age  Attack  Block  Serve   Set  \\\n",
       "0                  Ichikawa Yuki      Japan   28   15.80   1.13   1.40  0.07   \n",
       "1                    Romano Yuri      Italy   26   12.33   1.07   1.47  0.00   \n",
       "2               Abdel-Aziz Nimir  Nederland   31   15.33   0.67   2.08  0.00   \n",
       "3            Herrera Jaime Jesus       Cuba   28   15.00   0.92   1.75  0.00   \n",
       "4                  Takahashi Ran      Japan   22   11.53   0.67   1.00  0.07   \n",
       "..                           ...        ...  ...     ...    ...    ...   ...   \n",
       "126               Graven Leonard    Germany   19    0.00   0.00   0.00  0.00   \n",
       "127                 Balaso Fabio      Italy   28    0.00   0.00   0.00  0.00   \n",
       "128      Nacsimento Maique Reis      Brazil   26    0.00   0.00   0.00  0.00   \n",
       "129  Garcia Alvarez Yonder Roman       Cuba   30    0.00   0.00   0.00  0.00   \n",
       "130              Salparov Teodor   Bulgaria   41    0.00   0.00   0.00  0.00   \n",
       "\n",
       "       Dig  Receive Position  \n",
       "0     4.80     5.60       OH  \n",
       "1     3.87     0.00       OP  \n",
       "2     3.17     0.25       OP  \n",
       "3     3.33     0.17       OP  \n",
       "4     6.40     5.07       OH  \n",
       "..     ...      ...      ...  \n",
       "126   5.92     1.92        L  \n",
       "127  10.00     5.00        L  \n",
       "128   5.08     2.46        L  \n",
       "129   4.25     3.25        L  \n",
       "130   5.00     3.75        L  \n",
       "\n",
       "[131 rows x 10 columns]"
      ]
     },
     "execution_count": 5,
     "metadata": {},
     "output_type": "execute_result"
    }
   ],
   "source": [
    "#Visualizing the original dataframe\n",
    "df"
   ]
  },
  {
   "cell_type": "markdown",
   "id": "049a34b4",
   "metadata": {
    "papermill": {
     "duration": 0.010925,
     "end_time": "2024-11-17T18:23:25.324496",
     "exception": false,
     "start_time": "2024-11-17T18:23:25.313571",
     "status": "completed"
    },
    "tags": []
   },
   "source": [
    "**Verificar tipos de dados, valores únicos e nulos**"
   ]
  },
  {
   "cell_type": "code",
   "execution_count": 6,
   "id": "f0dd519f",
   "metadata": {
    "execution": {
     "iopub.execute_input": "2024-11-17T18:23:25.349722Z",
     "iopub.status.busy": "2024-11-17T18:23:25.349166Z",
     "iopub.status.idle": "2024-11-17T18:23:25.381073Z",
     "shell.execute_reply": "2024-11-17T18:23:25.379784Z"
    },
    "papermill": {
     "duration": 0.048682,
     "end_time": "2024-11-17T18:23:25.384323",
     "exception": false,
     "start_time": "2024-11-17T18:23:25.335641",
     "status": "completed"
    },
    "tags": []
   },
   "outputs": [
    {
     "name": "stdout",
     "output_type": "stream",
     "text": [
      "Tipos de dados:\n",
      "Player       object\n",
      "Country      object\n",
      "Age           int64\n",
      "Attack      float64\n",
      "Block       float64\n",
      "Serve       float64\n",
      "Set         float64\n",
      "Dig         float64\n",
      "Receive     float64\n",
      "Position     object\n",
      "dtype: object\n",
      "\n",
      "Valores únicos em Player:\n",
      "['Ichikawa Yuki' 'Romano Yuri' 'Abdel-Aziz Nimir' 'Herrera Jaime Jesus'\n",
      " 'Takahashi Ran' 'Luburic Drazen' 'Urnaut Tine' 'Zhang Jingyin'\n",
      " 'Souza Alen' 'Souza Ricardo Lucarelli' 'Palonsky Luciano'\n",
      " 'Lopez Castro Miguel Angel' 'Cebulj Klemen' 'Defalco Torey' 'Mozic Rok'\n",
      " 'Anderson Matthew' 'Weber Linus' 'Kujundzic Miran ' 'Nishida Yuji'\n",
      " 'Lima Bruno' 'Maar Stephen Timothy' 'Miyaura Kento'\n",
      " 'Michieletto Alessandro' 'Nikolov Aleksandar' 'Sclater Ryan Joseph'\n",
      " 'Vicentin Luciano ' 'Leon Venero Wilfredo' 'Lavia Daniele'\n",
      " 'Reichert Moritz' 'Loser Agustin' 'Van Garderen Maarten'\n",
      " 'Atanasov Martin' 'Esmaeilnezhad Amin' 'Jiang Chunan' 'Brehme Anton'\n",
      " 'Tillie Kevin' 'Clevenot Trevor' 'Yant Herrera Marlon' 'Sharifi Morteza'\n",
      " 'Hoag Nicholas ' 'Russell Aaron' 'Yu Yuantai' 'Koukartsev Pablo Sergio'\n",
      " 'Szwarc Arthur ' 'Jaeschkle Thomas ' 'Onodera Taishi'\n",
      " 'Honorato Henrique Dantas Nobrega' 'Kurek Bartosz' 'Kaczmarek Lukasz'\n",
      " 'Sliwka Aleksander ' 'Asparuhov Asparuh' 'Chineyeze Barthelemy'\n",
      " 'Dimitrov Dimitar' 'Tuinstra Bennie Junior' 'Carle Timothee' 'Patry Jean'\n",
      " 'Concepcion Rojas Javier Octavio' 'Pajenk Alen' 'Krsmanovic Petar'\n",
      " 'Peric Pavle' 'Nedeljkovic Aleksandar ' 'Faure Theo' 'Bultor Daryl '\n",
      " 'Russo Roberto' 'Yamauchi Akihiro ' 'Ivovic Marko' 'Demyanenko Danny'\n",
      " 'Plak Fabian' 'Boyer Stephen' 'Bieniek Mateusz'\n",
      " 'Resende Gualberto Flavio' 'Hossein Khanzadeh Poriya' 'Kozamernik Jan'\n",
      " 'Szalpuk Artur' 'Grozdenov Aleks' 'Mousavi Seyed Mohammad' 'Holt Maxwell'\n",
      " 'Hajipour Ali' 'Zhai Dejun ' 'Li Yongzhen' 'Esfandiar Amirhossein'\n",
      " 'Rinaldi Tommaso' 'Masso Alvarez Jose Israel'\n",
      " 'Rodrigues Pinto Otavio Henrique' 'Peng Shikun' 'Valizadeh Mohammad'\n",
      " 'Semeniuk Kamil' 'Ter Maat Wouter' 'Galassi Gianluca '\n",
      " 'Nunes da Cunha Jr Judson Amabel' 'Kochanowski Jakub' 'Stern Ziga'\n",
      " 'Averill Taylor' 'Kolev Nikolay' 'Smith David' 'Bohme Yan'\n",
      " 'Zerba Nicolas' 'Rohrs Erik' 'Krick Tobias' 'Christenson Micah'\n",
      " 'Sekita Masahiro' 'Giannelli Simone' 'De Cecco Luciano'\n",
      " 'Rezende Bruno Mossa' 'Ropret Gregor ' 'Seganov Georgi '\n",
      " 'Keemink Wessel ' 'Todorovic Vuk' 'Herr Luke' 'Tille Johannes'\n",
      " 'Taboada Diaz Lyvan' 'Brizard Antoine' 'Wang Hebin' 'Janusz Marcin'\n",
      " 'Vadi Mohammad Taher' 'Yamamoto Tomohiro' 'Kovacic Jani'\n",
      " 'Danani Santiago' 'Grebennikov Jenia' 'Shoji Erik' 'Andringa Robbert'\n",
      " 'Qu Zongshuai' 'Kapur Milorad ' 'Zatorski Pawel ' 'Currie Landon'\n",
      " 'Hazratpour Mohammadreza' 'Graven Leonard' 'Balaso Fabio'\n",
      " 'Nacsimento Maique Reis ' 'Garcia Alvarez Yonder Roman' 'Salparov Teodor']\n",
      "\n",
      "Valores únicos em Country:\n",
      "['Japan' 'Italy' 'Nederland' 'Cuba' 'Serbia' 'Slovenia' 'China' 'Brazil'\n",
      " 'Argentina' 'USA' 'Germany' 'Canada' 'Bulgaria' 'Poland' 'Iran' 'France']\n",
      "\n",
      "Valores únicos em Age:\n",
      "[28 26 31 22 30 35 24 29 21 36 23 27 20 33 37 25 19 32 38 34 41]\n",
      "\n",
      "Valores únicos em Attack:\n",
      "[15.8  12.33 15.33 15.   11.53 14.33 12.62 13.5  12.46 11.85 11.62 11.15\n",
      "  9.53 10.77  9.07 10.42 10.33  8.5   9.15  9.75  7.73 10.45 14.25  9.5\n",
      "  8.62  9.91  9.82  8.67  7.92  8.58  8.33 12.    7.83  7.75  9.56  7.08\n",
      "  7.64  7.    6.    6.92  6.23  6.67  7.27  5.2   5.92  6.91 10.57  7.78\n",
      "  5.75  5.23  7.56  5.58  5.08  5.33  5.17 15.25  4.54  5.36  3.87  7.25\n",
      "  4.75  6.33  5.09  4.31  5.5   4.23  6.75  4.42  3.53  4.73  4.17  4.08\n",
      "  4.    3.13  3.92  3.62  3.83  4.18  3.46  4.09  3.38  2.87  3.42  2.73\n",
      "  3.08  5.    3.33  0.4   0.13  2.45  0.78  0.38  0.46  0.17  1.    0.5\n",
      "  0.08  0.89  0.42  0.    0.25]\n",
      "\n",
      "Valores únicos em Block:\n",
      "[1.13 1.07 0.67 0.92 0.58 0.31 1.83 0.62 1.   1.38 0.87 1.08 0.53 0.75\n",
      " 0.21 0.54 1.25 0.33 1.55 1.15 1.27 1.82 4.08 0.5  0.44 0.78 0.36 0.71\n",
      " 0.46 1.2  1.43 0.86 1.67 0.25 1.11 2.42 3.   0.77 2.18 0.8  1.33 2.08\n",
      " 0.82 1.69 0.4  1.85 1.92 2.92 1.09 1.5  0.2  1.75 0.73 2.   0.47 1.47\n",
      " 0.69 0.38 0.07 0.56 0.42 1.17 0.   0.14 0.12]\n",
      "\n",
      "Valores únicos em Serve:\n",
      "[1.4  1.47 2.08 1.75 1.   1.08 1.38 1.42 0.54 1.46 1.33 0.69 1.07 0.77\n",
      " 1.13 0.75 0.86 0.67 1.18 0.88 0.58 0.46 1.27 0.55 0.92 0.83 0.33 0.22\n",
      " 0.36 0.93 0.42 0.23 0.64 0.27 0.38 0.18 0.29 0.57 0.17 0.44 0.25 1.5\n",
      " 0.31 0.62 1.09 0.15 0.4  0.5  0.6  0.2  0.45 0.73 0.   0.08 0.78]\n",
      "\n",
      "Valores únicos em Set:\n",
      "[ 0.07  0.    0.15  0.08  0.17  0.14  0.25 21.67 19.73 25.18 26.89 18.38\n",
      " 17.15 17.92 17.08 16.42 16.   15.33 15.25 17.33 12.5  17.86 11.38]\n",
      "\n",
      "Valores únicos em Dig:\n",
      "[ 4.8   3.87  3.17  3.33  6.4   4.25  5.85  3.42  4.15  5.38  5.62  4.\n",
      "  4.69  4.2   3.31  4.47  2.92  5.42  2.93  2.31  4.67  1.93  5.45  4.12\n",
      "  5.54  1.91  4.55  4.33  3.58  3.5   2.75  0.92  6.33  3.44  2.42  3.\n",
      "  4.08  2.07  3.08  2.    1.83  2.13  3.23  2.27  2.86  4.29  1.89  2.08\n",
      "  2.38  1.78  2.17  2.67  1.58  5.    1.    2.36  0.73  3.88  1.67  1.92\n",
      "  0.77  2.8   1.33  1.07  0.58  1.75  1.47  1.17  1.15  2.25  2.55  1.25\n",
      "  1.55  2.09  0.54  0.53  0.83  1.8   1.08  1.5   4.13  4.73  6.64  4.85\n",
      "  4.17  2.5   8.73  9.85  8.69 11.44  5.6   6.92  6.58  6.5   7.09  6.\n",
      "  5.92 10.    5.08]\n",
      "\n",
      "Valores únicos em Receive:\n",
      "[5.6  0.   0.25 0.17 5.07 5.   4.   3.62 4.38 4.42 2.15 3.87 2.54 4.58\n",
      " 0.07 0.15 4.75 2.82 4.62 4.31 1.73 5.55 5.75 0.69 3.25 5.25 6.56 4.11\n",
      " 3.17 3.   3.5  2.21 0.38 0.08 3.27 0.6  0.27 0.29 3.57 3.92 0.5  0.54\n",
      " 1.83 0.09 0.2  0.33 0.11 2.2  0.23 1.42 3.83 0.47 2.73 1.54 1.5  4.8\n",
      " 6.69 6.15 4.78 3.8  3.75 2.91 1.92 2.46]\n",
      "\n",
      "Valores únicos em Position:\n",
      "['OH' 'OP' 'MB' 'S' 'L']\n"
     ]
    }
   ],
   "source": [
    "# Verificar tipos de dados\n",
    "print(\"Tipos de dados:\")\n",
    "print(df.dtypes)\n",
    "\n",
    "# Verificar valores únicos em cada coluna\n",
    "for coluna in df.columns:\n",
    "    print(f\"\\nValores únicos em {coluna}:\")\n",
    "    print(df[coluna].unique())\n",
    "\n",
    "# Verificar se há valores não numéricos nas colunas que deveriam ser numéricas\n",
    "colunas_numericas = ['Age', 'Attack', 'Block', 'Serve', 'Set', 'Dig', 'Receive']\n",
    "for coluna in colunas_numericas:\n",
    "    nao_numericos = df[pd.to_numeric(df[coluna], errors='coerce').isna()]\n",
    "    if len(nao_numericos) > 0:\n",
    "        print(f\"\\nValores não numéricos em {coluna}:\")\n",
    "        print(nao_numericos[coluna])"
   ]
  },
  {
   "cell_type": "code",
   "execution_count": 7,
   "id": "3cc78e9f",
   "metadata": {
    "execution": {
     "iopub.execute_input": "2024-11-17T18:23:25.409279Z",
     "iopub.status.busy": "2024-11-17T18:23:25.408834Z",
     "iopub.status.idle": "2024-11-17T18:23:25.429836Z",
     "shell.execute_reply": "2024-11-17T18:23:25.428604Z"
    },
    "papermill": {
     "duration": 0.036666,
     "end_time": "2024-11-17T18:23:25.432616",
     "exception": false,
     "start_time": "2024-11-17T18:23:25.395950",
     "status": "completed"
    },
    "tags": []
   },
   "outputs": [
    {
     "name": "stdout",
     "output_type": "stream",
     "text": [
      "<class 'pandas.core.frame.DataFrame'>\n",
      "RangeIndex: 131 entries, 0 to 130\n",
      "Data columns (total 10 columns):\n",
      " #   Column    Non-Null Count  Dtype  \n",
      "---  ------    --------------  -----  \n",
      " 0   Player    131 non-null    object \n",
      " 1   Country   131 non-null    object \n",
      " 2   Age       131 non-null    int64  \n",
      " 3   Attack    131 non-null    float64\n",
      " 4   Block     131 non-null    float64\n",
      " 5   Serve     131 non-null    float64\n",
      " 6   Set       131 non-null    float64\n",
      " 7   Dig       131 non-null    float64\n",
      " 8   Receive   131 non-null    float64\n",
      " 9   Position  131 non-null    object \n",
      "dtypes: float64(6), int64(1), object(3)\n",
      "memory usage: 10.4+ KB\n"
     ]
    }
   ],
   "source": [
    "df.info()"
   ]
  },
  {
   "cell_type": "markdown",
   "id": "2d79fdff",
   "metadata": {
    "papermill": {
     "duration": 0.011309,
     "end_time": "2024-11-17T18:23:25.456172",
     "exception": false,
     "start_time": "2024-11-17T18:23:25.444863",
     "status": "completed"
    },
    "tags": []
   },
   "source": [
    "**Distribuição de idade por posição**"
   ]
  },
  {
   "cell_type": "code",
   "execution_count": 8,
   "id": "107207c6",
   "metadata": {
    "execution": {
     "iopub.execute_input": "2024-11-17T18:23:25.481867Z",
     "iopub.status.busy": "2024-11-17T18:23:25.480685Z",
     "iopub.status.idle": "2024-11-17T18:23:25.848713Z",
     "shell.execute_reply": "2024-11-17T18:23:25.847577Z"
    },
    "papermill": {
     "duration": 0.383827,
     "end_time": "2024-11-17T18:23:25.851470",
     "exception": false,
     "start_time": "2024-11-17T18:23:25.467643",
     "status": "completed"
    },
    "tags": []
   },
   "outputs": [
    {
     "data": {
      "image/png": "[encoded data removed]",
      "text/plain": [
       "<Figure size 1000x600 with 1 Axes>"
      ]
     },
     "metadata": {},
     "output_type": "display_data"
    }
   ],
   "source": [
    "# Distribuição de idade por posição\n",
    "plt.figure(figsize=(10, 6))\n",
    "sns.boxplot(x='Position', y='Age', data=df)\n",
    "plt.title('Distribuição de Idade por Posição')\n",
    "plt.xticks(rotation=45)\n",
    "plt.show()\n"
   ]
  },
  {
   "cell_type": "markdown",
   "id": "14380faa",
   "metadata": {
    "papermill": {
     "duration": 0.011634,
     "end_time": "2024-11-17T18:23:25.875640",
     "exception": false,
     "start_time": "2024-11-17T18:23:25.864006",
     "status": "completed"
    },
    "tags": []
   },
   "source": [
    "**Box plots para cada característica por posição**"
   ]
  },
  {
   "cell_type": "code",
   "execution_count": 9,
   "id": "afbb9f95",
   "metadata": {
    "execution": {
     "iopub.execute_input": "2024-11-17T18:23:25.902078Z",
     "iopub.status.busy": "2024-11-17T18:23:25.901609Z",
     "iopub.status.idle": "2024-11-17T18:23:27.869225Z",
     "shell.execute_reply": "2024-11-17T18:23:27.867711Z"
    },
    "papermill": {
     "duration": 1.983949,
     "end_time": "2024-11-17T18:23:27.871999",
     "exception": false,
     "start_time": "2024-11-17T18:23:25.888050",
     "status": "completed"
    },
    "tags": []
   },
   "outputs": [
    {
     "data": {
      "image/png": "[encoded data removed]",
      "text/plain": [
       "<Figure size 1500x1000 with 6 Axes>"
      ]
     },
     "metadata": {},
     "output_type": "display_data"
    }
   ],
   "source": [
    "# Box plots para cada característica por posição\n",
    "plt.figure(figsize=(15, 10))\n",
    "features = ['Attack', 'Block', 'Serve', 'Set', 'Dig', 'Receive']\n",
    "\n",
    "for i, feature in enumerate(features, 1):\n",
    "   plt.subplot(2, 3, i)\n",
    "   sns.boxplot(x='Position', y=feature, data=df)\n",
    "   plt.title(f'{feature} por Posição')\n",
    "   plt.xticks(rotation=45)\n",
    "\n",
    "plt.tight_layout()\n",
    "plt.show()"
   ]
  },
  {
   "cell_type": "markdown",
   "id": "26e6619e",
   "metadata": {
    "papermill": {
     "duration": 0.012954,
     "end_time": "2024-11-17T18:23:27.898485",
     "exception": false,
     "start_time": "2024-11-17T18:23:27.885531",
     "status": "completed"
    },
    "tags": []
   },
   "source": [
    "Matriz de correlação"
   ]
  },
  {
   "cell_type": "code",
   "execution_count": 10,
   "id": "69160762",
   "metadata": {
    "execution": {
     "iopub.execute_input": "2024-11-17T18:23:27.928500Z",
     "iopub.status.busy": "2024-11-17T18:23:27.928024Z",
     "iopub.status.idle": "2024-11-17T18:23:28.457913Z",
     "shell.execute_reply": "2024-11-17T18:23:28.456443Z"
    },
    "papermill": {
     "duration": 0.548381,
     "end_time": "2024-11-17T18:23:28.461116",
     "exception": false,
     "start_time": "2024-11-17T18:23:27.912735",
     "status": "completed"
    },
    "tags": []
   },
   "outputs": [
    {
     "data": {
      "image/png": "[encoded data removed]",
      "text/plain": [
       "<Figure size 1000x800 with 2 Axes>"
      ]
     },
     "metadata": {},
     "output_type": "display_data"
    }
   ],
   "source": [
    "# Matriz de correlação\n",
    "plt.figure(figsize=(10, 8))\n",
    "correlation_matrix = df[['Age', 'Attack', 'Block', 'Serve', 'Set', 'Dig', 'Receive']].corr()\n",
    "sns.heatmap(correlation_matrix, annot=True, cmap='coolwarm', fmt='.2f')\n",
    "plt.title('Matriz de Correlação das Características')\n",
    "plt.show()"
   ]
  },
  {
   "cell_type": "markdown",
   "id": "a0a7437d",
   "metadata": {
    "papermill": {
     "duration": 0.014329,
     "end_time": "2024-11-17T18:23:28.490130",
     "exception": false,
     "start_time": "2024-11-17T18:23:28.475801",
     "status": "completed"
    },
    "tags": []
   },
   "source": [
    "**Particionando e dispensando atributos que não vão ser úteis**"
   ]
  },
  {
   "cell_type": "code",
   "execution_count": 11,
   "id": "389a1400",
   "metadata": {
    "execution": {
     "iopub.execute_input": "2024-11-17T18:23:28.521239Z",
     "iopub.status.busy": "2024-11-17T18:23:28.520766Z",
     "iopub.status.idle": "2024-11-17T18:23:28.527669Z",
     "shell.execute_reply": "2024-11-17T18:23:28.526488Z"
    },
    "papermill": {
     "duration": 0.025531,
     "end_time": "2024-11-17T18:23:28.530134",
     "exception": false,
     "start_time": "2024-11-17T18:23:28.504603",
     "status": "completed"
    },
    "tags": []
   },
   "outputs": [],
   "source": [
    "#Particionando e dispensando atributos que não vão ser úteis\n",
    "X = df.drop(['Player', 'Country', 'Position', 'Age'], axis=1)\n",
    "y = df['Position']"
   ]
  },
  {
   "cell_type": "markdown",
   "id": "04ed49c6",
   "metadata": {
    "papermill": {
     "duration": 0.013842,
     "end_time": "2024-11-17T18:23:28.558455",
     "exception": false,
     "start_time": "2024-11-17T18:23:28.544613",
     "status": "completed"
    },
    "tags": []
   },
   "source": [
    "**Encode da variável target**"
   ]
  },
  {
   "cell_type": "code",
   "execution_count": 12,
   "id": "e58bd89c",
   "metadata": {
    "execution": {
     "iopub.execute_input": "2024-11-17T18:23:28.589359Z",
     "iopub.status.busy": "2024-11-17T18:23:28.588920Z",
     "iopub.status.idle": "2024-11-17T18:23:28.594984Z",
     "shell.execute_reply": "2024-11-17T18:23:28.593603Z"
    },
    "papermill": {
     "duration": 0.024344,
     "end_time": "2024-11-17T18:23:28.597302",
     "exception": false,
     "start_time": "2024-11-17T18:23:28.572958",
     "status": "completed"
    },
    "tags": []
   },
   "outputs": [],
   "source": [
    "# Encode da variável target\n",
    "le = LabelEncoder()\n",
    "y = le.fit_transform(y)\n"
   ]
  },
  {
   "cell_type": "markdown",
   "id": "3c1d8d5a",
   "metadata": {
    "papermill": {
     "duration": 0.013948,
     "end_time": "2024-11-17T18:23:28.625598",
     "exception": false,
     "start_time": "2024-11-17T18:23:28.611650",
     "status": "completed"
    },
    "tags": []
   },
   "source": [
    "**Normalização dos dados**"
   ]
  },
  {
   "cell_type": "code",
   "execution_count": 13,
   "id": "6556d20f",
   "metadata": {
    "execution": {
     "iopub.execute_input": "2024-11-17T18:23:28.656789Z",
     "iopub.status.busy": "2024-11-17T18:23:28.655665Z",
     "iopub.status.idle": "2024-11-17T18:23:28.664906Z",
     "shell.execute_reply": "2024-11-17T18:23:28.663791Z"
    },
    "papermill": {
     "duration": 0.027575,
     "end_time": "2024-11-17T18:23:28.667551",
     "exception": false,
     "start_time": "2024-11-17T18:23:28.639976",
     "status": "completed"
    },
    "tags": []
   },
   "outputs": [],
   "source": [
    "# Normalização dos dados\n",
    "scaler = StandardScaler()\n",
    "X_scaled = scaler.fit_transform(X)"
   ]
  },
  {
   "cell_type": "markdown",
   "id": "9977df3a",
   "metadata": {
    "papermill": {
     "duration": 0.013801,
     "end_time": "2024-11-17T18:23:28.695528",
     "exception": false,
     "start_time": "2024-11-17T18:23:28.681727",
     "status": "completed"
    },
    "tags": []
   },
   "source": [
    "**Split dos dados**"
   ]
  },
  {
   "cell_type": "code",
   "execution_count": 14,
   "id": "16f4f291",
   "metadata": {
    "execution": {
     "iopub.execute_input": "2024-11-17T18:23:28.725833Z",
     "iopub.status.busy": "2024-11-17T18:23:28.725379Z",
     "iopub.status.idle": "2024-11-17T18:23:28.733801Z",
     "shell.execute_reply": "2024-11-17T18:23:28.732552Z"
    },
    "papermill": {
     "duration": 0.026753,
     "end_time": "2024-11-17T18:23:28.736403",
     "exception": false,
     "start_time": "2024-11-17T18:23:28.709650",
     "status": "completed"
    },
    "tags": []
   },
   "outputs": [],
   "source": [
    "# Split dos dados\n",
    "X_train, X_test, y_train, y_test = train_test_split(\n",
    "    X_scaled, y, test_size=0.25, random_state=42\n",
    ")"
   ]
  },
  {
   "cell_type": "markdown",
   "id": "01c3ba03",
   "metadata": {
    "papermill": {
     "duration": 0.01389,
     "end_time": "2024-11-17T18:23:28.764623",
     "exception": false,
     "start_time": "2024-11-17T18:23:28.750733",
     "status": "completed"
    },
    "tags": []
   },
   "source": [
    "**Rodando algoritmo Random Forest**"
   ]
  },
  {
   "cell_type": "code",
   "execution_count": 15,
   "id": "3505cb4d",
   "metadata": {
    "execution": {
     "iopub.execute_input": "2024-11-17T18:23:28.795075Z",
     "iopub.status.busy": "2024-11-17T18:23:28.794631Z",
     "iopub.status.idle": "2024-11-17T18:23:29.030397Z",
     "shell.execute_reply": "2024-11-17T18:23:29.029273Z"
    },
    "papermill": {
     "duration": 0.254579,
     "end_time": "2024-11-17T18:23:29.033423",
     "exception": false,
     "start_time": "2024-11-17T18:23:28.778844",
     "status": "completed"
    },
    "tags": []
   },
   "outputs": [
    {
     "data": {
      "text/html": [
       "<style>#sk-container-id-1 {color: black;background-color: white;}#sk-container-id-1 pre{padding: 0;}#sk-container-id-1 div.sk-toggleable {background-color: white;}#sk-container-id-1 label.sk-toggleable__label {cursor: pointer;display: block;width: 100%;margin-bottom: 0;padding: 0.3em;box-sizing: border-box;text-align: center;}#sk-container-id-1 label.sk-toggleable__label-arrow:before {content: \"▸\";float: left;margin-right: 0.25em;color: #696969;}#sk-container-id-1 label.sk-toggleable__label-arrow:hover:before {color: black;}#sk-container-id-1 div.sk-estimator:hover label.sk-toggleable__label-arrow:before {color: black;}#sk-container-id-1 div.sk-toggleable__content {max-height: 0;max-width: 0;overflow: hidden;text-align: left;background-color: #f0f8ff;}#sk-container-id-1 div.sk-toggleable__content pre {margin: 0.2em;color: black;border-radius: 0.25em;background-color: #f0f8ff;}#sk-container-id-1 input.sk-toggleable__control:checked~div.sk-toggleable__content {max-height: 200px;max-width: 100%;overflow: auto;}#sk-container-id-1 input.sk-toggleable__control:checked~label.sk-toggleable__label-arrow:before {content: \"▾\";}#sk-container-id-1 div.sk-estimator input.sk-toggleable__control:checked~label.sk-toggleable__label {background-color: #d4ebff;}#sk-container-id-1 div.sk-label input.sk-toggleable__control:checked~label.sk-toggleable__label {background-color: #d4ebff;}#sk-container-id-1 input.sk-hidden--visually {border: 0;clip: rect(1px 1px 1px 1px);clip: rect(1px, 1px, 1px, 1px);height: 1px;margin: -1px;overflow: hidden;padding: 0;position: absolute;width: 1px;}#sk-container-id-1 div.sk-estimator {font-family: monospace;background-color: #f0f8ff;border: 1px dotted black;border-radius: 0.25em;box-sizing: border-box;margin-bottom: 0.5em;}#sk-container-id-1 div.sk-estimator:hover {background-color: #d4ebff;}#sk-container-id-1 div.sk-parallel-item::after {content: \"\";width: 100%;border-bottom: 1px solid gray;flex-grow: 1;}#sk-container-id-1 div.sk-label:hover label.sk-toggleable__label {background-color: #d4ebff;}#sk-container-id-1 div.sk-serial::before {content: \"\";position: absolute;border-left: 1px solid gray;box-sizing: border-box;top: 0;bottom: 0;left: 50%;z-index: 0;}#sk-container-id-1 div.sk-serial {display: flex;flex-direction: column;align-items: center;background-color: white;padding-right: 0.2em;padding-left: 0.2em;position: relative;}#sk-container-id-1 div.sk-item {position: relative;z-index: 1;}#sk-container-id-1 div.sk-parallel {display: flex;align-items: stretch;justify-content: center;background-color: white;position: relative;}#sk-container-id-1 div.sk-item::before, #sk-container-id-1 div.sk-parallel-item::before {content: \"\";position: absolute;border-left: 1px solid gray;box-sizing: border-box;top: 0;bottom: 0;left: 50%;z-index: -1;}#sk-container-id-1 div.sk-parallel-item {display: flex;flex-direction: column;z-index: 1;position: relative;background-color: white;}#sk-container-id-1 div.sk-parallel-item:first-child::after {align-self: flex-end;width: 50%;}#sk-container-id-1 div.sk-parallel-item:last-child::after {align-self: flex-start;width: 50%;}#sk-container-id-1 div.sk-parallel-item:only-child::after {width: 0;}#sk-container-id-1 div.sk-dashed-wrapped {border: 1px dashed gray;margin: 0 0.4em 0.5em 0.4em;box-sizing: border-box;padding-bottom: 0.4em;background-color: white;}#sk-container-id-1 div.sk-label label {font-family: monospace;font-weight: bold;display: inline-block;line-height: 1.2em;}#sk-container-id-1 div.sk-label-container {text-align: center;}#sk-container-id-1 div.sk-container {/* jupyter's `normalize.less` sets `[hidden] { display: none; }` but bootstrap.min.css set `[hidden] { display: none !important; }` so we also need the `!important` here to be able to override the default hidden behavior on the sphinx rendered scikit-learn.org. See: https://github.com/scikit-learn/scikit-learn/issues/21755 */display: inline-block !important;position: relative;}#sk-container-id-1 div.sk-text-repr-fallback {display: none;}</style><div id=\"sk-container-id-1\" class=\"sk-top-container\"><div class=\"sk-text-repr-fallback\"><pre>RandomForestClassifier(random_state=42)</pre><b>In a Jupyter environment, please rerun this cell to show the HTML representation or trust the notebook. <br />On GitHub, the HTML representation is unable to render, please try loading this page with nbviewer.org.</b></div><div class=\"sk-container\" hidden><div class=\"sk-item\"><div class=\"sk-estimator sk-toggleable\"><input class=\"sk-toggleable__control sk-hidden--visually\" id=\"sk-estimator-id-1\" type=\"checkbox\" checked><label for=\"sk-estimator-id-1\" class=\"sk-toggleable__label sk-toggleable__label-arrow\">RandomForestClassifier</label><div class=\"sk-toggleable__content\"><pre>RandomForestClassifier(random_state=42)</pre></div></div></div></div></div>"
      ],
      "text/plain": [
       "RandomForestClassifier(random_state=42)"
      ]
     },
     "execution_count": 15,
     "metadata": {},
     "output_type": "execute_result"
    }
   ],
   "source": [
    "# 1. Modelo Random Forest\n",
    "rf_model = RandomForestClassifier(n_estimators=100, random_state=42)\n",
    "rf_model.fit(X_train, y_train)"
   ]
  },
  {
   "cell_type": "code",
   "execution_count": 16,
   "id": "ff96a2a9",
   "metadata": {
    "execution": {
     "iopub.execute_input": "2024-11-17T18:23:29.067118Z",
     "iopub.status.busy": "2024-11-17T18:23:29.066103Z",
     "iopub.status.idle": "2024-11-17T18:23:29.092601Z",
     "shell.execute_reply": "2024-11-17T18:23:29.091329Z"
    },
    "papermill": {
     "duration": 0.046678,
     "end_time": "2024-11-17T18:23:29.095297",
     "exception": false,
     "start_time": "2024-11-17T18:23:29.048619",
     "status": "completed"
    },
    "tags": []
   },
   "outputs": [
    {
     "name": "stdout",
     "output_type": "stream",
     "text": [
      "\n",
      "Random Forest Results:\n",
      "              precision    recall  f1-score   support\n",
      "\n",
      "           L       1.00      1.00      1.00         3\n",
      "          MB       0.80      1.00      0.89         8\n",
      "          OH       1.00      0.93      0.96        14\n",
      "          OP       1.00      0.83      0.91         6\n",
      "           S       1.00      1.00      1.00         2\n",
      "\n",
      "    accuracy                           0.94        33\n",
      "   macro avg       0.96      0.95      0.95        33\n",
      "weighted avg       0.95      0.94      0.94        33\n",
      "\n"
     ]
    }
   ],
   "source": [
    "# 2. Previsões e avaliação\n",
    "rf_predictions = rf_model.predict(X_test)\n",
    "print(\"\\nRandom Forest Results:\")\n",
    "print(classification_report(y_test, rf_predictions, \n",
    "                          target_names=le.classes_))"
   ]
  },
  {
   "cell_type": "code",
   "execution_count": 17,
   "id": "0ba3e714",
   "metadata": {
    "execution": {
     "iopub.execute_input": "2024-11-17T18:23:29.127938Z",
     "iopub.status.busy": "2024-11-17T18:23:29.127455Z",
     "iopub.status.idle": "2024-11-17T18:23:29.149731Z",
     "shell.execute_reply": "2024-11-17T18:23:29.148037Z"
    },
    "papermill": {
     "duration": 0.041483,
     "end_time": "2024-11-17T18:23:29.152471",
     "exception": false,
     "start_time": "2024-11-17T18:23:29.110988",
     "status": "completed"
    },
    "tags": []
   },
   "outputs": [
    {
     "name": "stdout",
     "output_type": "stream",
     "text": [
      "\n",
      "Feature Importance:\n",
      "   feature  importance\n",
      "5  Receive    0.252668\n",
      "0   Attack    0.243337\n",
      "4      Dig    0.153607\n",
      "1    Block    0.136374\n",
      "3      Set    0.113998\n",
      "2    Serve    0.100015\n"
     ]
    }
   ],
   "source": [
    "# 2. Importância das features\n",
    "feature_importance = pd.DataFrame({\n",
    "    'feature': X.columns,\n",
    "    'importance': rf_model.feature_importances_\n",
    "}).sort_values('importance', ascending=False)\n",
    "\n",
    "print(\"\\nFeature Importance:\")\n",
    "print(feature_importance)\n"
   ]
  },
  {
   "cell_type": "code",
   "execution_count": 18,
   "id": "8184937a",
   "metadata": {
    "execution": {
     "iopub.execute_input": "2024-11-17T18:23:29.184371Z",
     "iopub.status.busy": "2024-11-17T18:23:29.183922Z",
     "iopub.status.idle": "2024-11-17T18:23:30.313425Z",
     "shell.execute_reply": "2024-11-17T18:23:30.311864Z"
    },
    "papermill": {
     "duration": 1.148764,
     "end_time": "2024-11-17T18:23:30.316303",
     "exception": false,
     "start_time": "2024-11-17T18:23:29.167539",
     "status": "completed"
    },
    "tags": []
   },
   "outputs": [
    {
     "name": "stdout",
     "output_type": "stream",
     "text": [
      "\n",
      "Cross-validation scores: [0.85185185 0.96153846 1.         0.88461538 0.84615385]\n",
      "Mean CV score: 0.9088319088319088\n"
     ]
    }
   ],
   "source": [
    "# 3. Cross-validation\n",
    "cv_scores = cross_val_score(rf_model, X_scaled, y, cv=5)\n",
    "print(\"\\nCross-validation scores:\", cv_scores)\n",
    "print(\"Mean CV score:\", cv_scores.mean())"
   ]
  },
  {
   "cell_type": "markdown",
   "id": "4757bd3d",
   "metadata": {
    "papermill": {
     "duration": 0.015051,
     "end_time": "2024-11-17T18:23:30.346674",
     "exception": false,
     "start_time": "2024-11-17T18:23:30.331623",
     "status": "completed"
    },
    "tags": []
   },
   "source": [
    "**Definindo função**"
   ]
  },
  {
   "cell_type": "code",
   "execution_count": 19,
   "id": "14e72369",
   "metadata": {
    "execution": {
     "iopub.execute_input": "2024-11-17T18:23:30.379456Z",
     "iopub.status.busy": "2024-11-17T18:23:30.378997Z",
     "iopub.status.idle": "2024-11-17T18:23:30.387497Z",
     "shell.execute_reply": "2024-11-17T18:23:30.386154Z"
    },
    "papermill": {
     "duration": 0.02812,
     "end_time": "2024-11-17T18:23:30.390352",
     "exception": false,
     "start_time": "2024-11-17T18:23:30.362232",
     "status": "completed"
    },
    "tags": []
   },
   "outputs": [],
   "source": [
    "# 4. Função de predição \n",
    "def predict_position(model, scaler, le, player_stats):\n",
    "    \"\"\"\n",
    "    Prevê a posição de um jogador com base em suas estatísticas\n",
    "    \n",
    "    Args:\n",
    "        model: Modelo treinado\n",
    "        scaler: Scaler ajustado\n",
    "        le: LabelEncoder ajustado\n",
    "        player_stats: Dict com estatísticas numéricas do jogador\n",
    "    \"\"\"\n",
    "    # Criar DataFrame com as mesmas colunas do treino\n",
    "    stats_df = pd.DataFrame([player_stats], columns=X.columns)\n",
    "    \n",
    "    # Normalizar dados\n",
    "    stats_scaled = scaler.transform(stats_df)\n",
    "    \n",
    "    # Fazer previsão\n",
    "    position_encoded = model.predict(stats_scaled)\n",
    "    position = le.inverse_transform(position_encoded)\n",
    "    \n",
    "    # Obter probabilidades\n",
    "    probabilities = model.predict_proba(stats_scaled)\n",
    "    \n",
    "    return position[0], probabilities[0]\n",
    "\n",
    "\n"
   ]
  },
  {
   "cell_type": "code",
   "execution_count": 20,
   "id": "ed3b74ce",
   "metadata": {
    "execution": {
     "iopub.execute_input": "2024-11-17T18:23:30.423865Z",
     "iopub.status.busy": "2024-11-17T18:23:30.422631Z",
     "iopub.status.idle": "2024-11-17T18:23:30.429203Z",
     "shell.execute_reply": "2024-11-17T18:23:30.427921Z"
    },
    "papermill": {
     "duration": 0.026529,
     "end_time": "2024-11-17T18:23:30.432071",
     "exception": false,
     "start_time": "2024-11-17T18:23:30.405542",
     "status": "completed"
    },
    "tags": []
   },
   "outputs": [],
   "source": [
    "# 5. Exemplo de uso\n",
    "new_player = {\n",
    "    'Age': 25,\n",
    "    'Attack': 0.65,\n",
    "    'Block': 0.45,\n",
    "    'Serve': 0.55,\n",
    "    'Set': 0.30,\n",
    "    'Dig': 0.40,\n",
    "    'Receive': 0.50\n",
    "}"
   ]
  },
  {
   "cell_type": "code",
   "execution_count": 21,
   "id": "b625f38a",
   "metadata": {
    "execution": {
     "iopub.execute_input": "2024-11-17T18:23:30.464601Z",
     "iopub.status.busy": "2024-11-17T18:23:30.464149Z",
     "iopub.status.idle": "2024-11-17T18:23:30.492189Z",
     "shell.execute_reply": "2024-11-17T18:23:30.490730Z"
    },
    "papermill": {
     "duration": 0.047351,
     "end_time": "2024-11-17T18:23:30.494821",
     "exception": false,
     "start_time": "2024-11-17T18:23:30.447470",
     "status": "completed"
    },
    "tags": []
   },
   "outputs": [
    {
     "name": "stdout",
     "output_type": "stream",
     "text": [
      "\n",
      "Predicted position: MB\n",
      "Probabilities: {'L': 0.06, 'MB': 0.56, 'OH': 0.04, 'OP': 0.06, 'S': 0.28}\n"
     ]
    }
   ],
   "source": [
    "position, probs = predict_position(rf_model, scaler, le, new_player)\n",
    "print(\"\\nPredicted position:\", position)\n",
    "print(\"Probabilities:\", dict(zip(le.classes_, probs)))\n"
   ]
  },
  {
   "cell_type": "code",
   "execution_count": 22,
   "id": "4e63ab49",
   "metadata": {
    "execution": {
     "iopub.execute_input": "2024-11-17T18:23:30.527796Z",
     "iopub.status.busy": "2024-11-17T18:23:30.526740Z",
     "iopub.status.idle": "2024-11-17T18:23:30.544766Z",
     "shell.execute_reply": "2024-11-17T18:23:30.543532Z"
    },
    "papermill": {
     "duration": 0.037727,
     "end_time": "2024-11-17T18:23:30.547858",
     "exception": false,
     "start_time": "2024-11-17T18:23:30.510131",
     "status": "completed"
    },
    "tags": []
   },
   "outputs": [
    {
     "name": "stdout",
     "output_type": "stream",
     "text": [
      "\n",
      "Média de estatísticas por posição:\n",
      "            Age  Attack  Block  Serve    Set   Dig  Receive\n",
      "Position                                                   \n",
      "L         29.31    0.00   0.00   0.00   0.00  7.10     3.84\n",
      "MB        28.03    4.54   1.53   0.47   0.00  1.53     0.18\n",
      "OH        26.45    8.38   0.80   0.71   0.02  3.58     3.49\n",
      "OP        27.68    9.33   0.78   0.80   0.01  2.92     0.28\n",
      "S         29.62    0.54   0.56   0.32  17.88  3.94     0.01\n"
     ]
    }
   ],
   "source": [
    "def analyze_position_characteristics(df):\n",
    "    \"\"\"Analisa características médias por posição\"\"\"\n",
    "    stats_by_position = df.groupby('Position').agg({\n",
    "        'Age': 'mean',\n",
    "        'Attack': 'mean',\n",
    "        'Block': 'mean',\n",
    "        'Serve': 'mean',\n",
    "        'Set': 'mean',\n",
    "        'Dig': 'mean',\n",
    "        'Receive': 'mean'\n",
    "    }).round(2)\n",
    "    \n",
    "    return stats_by_position\n",
    "\n",
    "position_stats = analyze_position_characteristics(df)\n",
    "print(\"\\nMédia de estatísticas por posição:\")\n",
    "print(position_stats)"
   ]
  }
 ],
 "metadata": {
  "kaggle": {
   "accelerator": "none",
   "dataSources": [
    {
     "datasetId": 4265672,
     "sourceId": 7358071,
     "sourceType": "datasetVersion"
    }
   ],
   "dockerImageVersionId": 30786,
   "isGpuEnabled": false,
   "isInternetEnabled": false,
   "language": "python",
   "sourceType": "notebook"
  },
  "kernelspec": {
   "display_name": "Python 3",
   "language": "python",
   "name": "python3"
  },
  "language_info": {
   "codemirror_mode": {
    "name": "ipython",
    "version": 3
   },
   "file_extension": ".py",
   "mimetype": "text/x-python",
   "name": "python",
   "nbconvert_exporter": "python",
   "pygments_lexer": "ipython3",
   "version": "3.10.14"
  },
  "papermill": {
   "default_parameters": {},
   "duration": 12.707309,
   "end_time": "2024-11-17T18:23:31.286504",
   "environment_variables": {},
   "exception": null,
   "input_path": "__notebook__.ipynb",
   "output_path": "__notebook__.ipynb",
   "parameters": {},
   "start_time": "2024-11-17T18:23:18.579195",
   "version": "2.6.0"
  }
 },
 "nbformat": 4,
 "nbformat_minor": 5
}
